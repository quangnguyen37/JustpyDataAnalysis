{
 "cells": [
  {
   "cell_type": "markdown",
   "id": "c6dfd54b",
   "metadata": {},
   "source": [
    "## 1.Overview of the dataframe"
   ]
  },
  {
   "cell_type": "code",
   "execution_count": 2,
   "id": "0ed26ad8",
   "metadata": {},
   "outputs": [],
   "source": [
    "import pandas\n",
    "from datetime import datetime\n",
    "from pytz import utc\n",
    "data = pandas.read_csv(\"reviews.csv\", parse_dates = ['Timestamp'])"
   ]
  },
  {
   "cell_type": "code",
   "execution_count": 5,
   "id": "53322f0f",
   "metadata": {},
   "outputs": [
    {
     "data": {
      "text/html": [
       "<div>\n",
       "<style scoped>\n",
       "    .dataframe tbody tr th:only-of-type {\n",
       "        vertical-align: middle;\n",
       "    }\n",
       "\n",
       "    .dataframe tbody tr th {\n",
       "        vertical-align: top;\n",
       "    }\n",
       "\n",
       "    .dataframe thead th {\n",
       "        text-align: right;\n",
       "    }\n",
       "</style>\n",
       "<table border=\"1\" class=\"dataframe\">\n",
       "  <thead>\n",
       "    <tr style=\"text-align: right;\">\n",
       "      <th></th>\n",
       "      <th>Course Name</th>\n",
       "      <th>Timestamp</th>\n",
       "      <th>Rating</th>\n",
       "      <th>Comment</th>\n",
       "    </tr>\n",
       "  </thead>\n",
       "  <tbody>\n",
       "    <tr>\n",
       "      <th>0</th>\n",
       "      <td>The Python Mega Course: Build 10 Real World Ap...</td>\n",
       "      <td>2021-04-02 06:25:52+00:00</td>\n",
       "      <td>4.0</td>\n",
       "      <td>NaN</td>\n",
       "    </tr>\n",
       "    <tr>\n",
       "      <th>1</th>\n",
       "      <td>The Python Mega Course: Build 10 Real World Ap...</td>\n",
       "      <td>2021-04-02 05:12:34+00:00</td>\n",
       "      <td>4.0</td>\n",
       "      <td>NaN</td>\n",
       "    </tr>\n",
       "    <tr>\n",
       "      <th>2</th>\n",
       "      <td>The Python Mega Course: Build 10 Real World Ap...</td>\n",
       "      <td>2021-04-02 05:11:03+00:00</td>\n",
       "      <td>4.0</td>\n",
       "      <td>NaN</td>\n",
       "    </tr>\n",
       "    <tr>\n",
       "      <th>3</th>\n",
       "      <td>The Python Mega Course: Build 10 Real World Ap...</td>\n",
       "      <td>2021-04-02 03:33:24+00:00</td>\n",
       "      <td>5.0</td>\n",
       "      <td>NaN</td>\n",
       "    </tr>\n",
       "    <tr>\n",
       "      <th>4</th>\n",
       "      <td>The Python Mega Course: Build 10 Real World Ap...</td>\n",
       "      <td>2021-04-02 03:31:49+00:00</td>\n",
       "      <td>4.5</td>\n",
       "      <td>NaN</td>\n",
       "    </tr>\n",
       "  </tbody>\n",
       "</table>\n",
       "</div>"
      ],
      "text/plain": [
       "                                         Course Name  \\\n",
       "0  The Python Mega Course: Build 10 Real World Ap...   \n",
       "1  The Python Mega Course: Build 10 Real World Ap...   \n",
       "2  The Python Mega Course: Build 10 Real World Ap...   \n",
       "3  The Python Mega Course: Build 10 Real World Ap...   \n",
       "4  The Python Mega Course: Build 10 Real World Ap...   \n",
       "\n",
       "                  Timestamp  Rating Comment  \n",
       "0 2021-04-02 06:25:52+00:00     4.0     NaN  \n",
       "1 2021-04-02 05:12:34+00:00     4.0     NaN  \n",
       "2 2021-04-02 05:11:03+00:00     4.0     NaN  \n",
       "3 2021-04-02 03:33:24+00:00     5.0     NaN  \n",
       "4 2021-04-02 03:31:49+00:00     4.5     NaN  "
      ]
     },
     "execution_count": 5,
     "metadata": {},
     "output_type": "execute_result"
    }
   ],
   "source": [
    "data.head()"
   ]
  },
  {
   "cell_type": "code",
   "execution_count": 6,
   "id": "e472fefb",
   "metadata": {},
   "outputs": [
    {
     "data": {
      "text/plain": [
       "(45000, 4)"
      ]
     },
     "execution_count": 6,
     "metadata": {},
     "output_type": "execute_result"
    }
   ],
   "source": [
    "data.shape"
   ]
  },
  {
   "cell_type": "code",
   "execution_count": 7,
   "id": "940ef2f5",
   "metadata": {},
   "outputs": [
    {
     "data": {
      "text/plain": [
       "Index(['Course Name', 'Timestamp', 'Rating', 'Comment'], dtype='object')"
      ]
     },
     "execution_count": 7,
     "metadata": {},
     "output_type": "execute_result"
    }
   ],
   "source": [
    "data.columns"
   ]
  },
  {
   "cell_type": "code",
   "execution_count": 8,
   "id": "9795c8ec",
   "metadata": {},
   "outputs": [
    {
     "data": {
      "text/plain": [
       "array([[<AxesSubplot:title={'center':'Rating'}>]], dtype=object)"
      ]
     },
     "execution_count": 8,
     "metadata": {},
     "output_type": "execute_result"
    },
    {
     "data": {
      "image/png": "[encoded data removed]",
      "text/plain": [
       "<Figure size 640x480 with 1 Axes>"
      ]
     },
     "metadata": {},
     "output_type": "display_data"
    }
   ],
   "source": [
    "data.hist('Rating')"
   ]
  },
  {
   "cell_type": "code",
   "execution_count": 9,
   "id": "cfce83bb",
   "metadata": {},
   "outputs": [
    {
     "data": {
      "text/plain": [
       "array(['The Python Mega Course: Build 10 Real World Applications',\n",
       "       'The Complete Python Course: Build 10 Professional OOP Apps',\n",
       "       '100 Python Exercises I: Evaluate and Improve Your Skills',\n",
       "       'Interactive Data Visualization with Python and Bokeh',\n",
       "       'Python for Beginners with Examples',\n",
       "       'Data Processing with Python',\n",
       "       '100 Python Exercises II: Evaluate and Improve Your Skills',\n",
       "       'Learn GIS in One Hour'], dtype=object)"
      ]
     },
     "execution_count": 9,
     "metadata": {},
     "output_type": "execute_result"
    }
   ],
   "source": [
    "data['Course Name'].unique()"
   ]
  },
  {
   "cell_type": "markdown",
   "id": "80c2711a",
   "metadata": {},
   "source": [
    "## 2.Selecting data from the dataframe"
   ]
  },
  {
   "cell_type": "markdown",
   "id": "dc436846",
   "metadata": {},
   "source": [
    "### Select a column"
   ]
  },
  {
   "cell_type": "code",
   "execution_count": 10,
   "id": "8c18e381",
   "metadata": {},
   "outputs": [
    {
     "data": {
      "text/plain": [
       "0        4.0\n",
       "1        4.0\n",
       "2        4.0\n",
       "3        5.0\n",
       "4        4.5\n",
       "        ... \n",
       "44995    4.0\n",
       "44996    5.0\n",
       "44997    5.0\n",
       "44998    5.0\n",
       "44999    5.0\n",
       "Name: Rating, Length: 45000, dtype: float64"
      ]
     },
     "execution_count": 10,
     "metadata": {},
     "output_type": "execute_result"
    }
   ],
   "source": [
    "data['Rating']"
   ]
  },
  {
   "cell_type": "markdown",
   "id": "b72dc4af",
   "metadata": {},
   "source": [
    "### Select multiple columns "
   ]
  },
  {
   "cell_type": "code",
   "execution_count": 11,
   "id": "72b067e1",
   "metadata": {},
   "outputs": [
    {
     "data": {
      "text/html": [
       "<div>\n",
       "<style scoped>\n",
       "    .dataframe tbody tr th:only-of-type {\n",
       "        vertical-align: middle;\n",
       "    }\n",
       "\n",
       "    .dataframe tbody tr th {\n",
       "        vertical-align: top;\n",
       "    }\n",
       "\n",
       "    .dataframe thead th {\n",
       "        text-align: right;\n",
       "    }\n",
       "</style>\n",
       "<table border=\"1\" class=\"dataframe\">\n",
       "  <thead>\n",
       "    <tr style=\"text-align: right;\">\n",
       "      <th></th>\n",
       "      <th>Course Name</th>\n",
       "      <th>Rating</th>\n",
       "    </tr>\n",
       "  </thead>\n",
       "  <tbody>\n",
       "    <tr>\n",
       "      <th>0</th>\n",
       "      <td>The Python Mega Course: Build 10 Real World Ap...</td>\n",
       "      <td>4.0</td>\n",
       "    </tr>\n",
       "    <tr>\n",
       "      <th>1</th>\n",
       "      <td>The Python Mega Course: Build 10 Real World Ap...</td>\n",
       "      <td>4.0</td>\n",
       "    </tr>\n",
       "    <tr>\n",
       "      <th>2</th>\n",
       "      <td>The Python Mega Course: Build 10 Real World Ap...</td>\n",
       "      <td>4.0</td>\n",
       "    </tr>\n",
       "    <tr>\n",
       "      <th>3</th>\n",
       "      <td>The Python Mega Course: Build 10 Real World Ap...</td>\n",
       "      <td>5.0</td>\n",
       "    </tr>\n",
       "    <tr>\n",
       "      <th>4</th>\n",
       "      <td>The Python Mega Course: Build 10 Real World Ap...</td>\n",
       "      <td>4.5</td>\n",
       "    </tr>\n",
       "    <tr>\n",
       "      <th>...</th>\n",
       "      <td>...</td>\n",
       "      <td>...</td>\n",
       "    </tr>\n",
       "    <tr>\n",
       "      <th>44995</th>\n",
       "      <td>Python for Beginners with Examples</td>\n",
       "      <td>4.0</td>\n",
       "    </tr>\n",
       "    <tr>\n",
       "      <th>44996</th>\n",
       "      <td>The Python Mega Course: Build 10 Real World Ap...</td>\n",
       "      <td>5.0</td>\n",
       "    </tr>\n",
       "    <tr>\n",
       "      <th>44997</th>\n",
       "      <td>The Python Mega Course: Build 10 Real World Ap...</td>\n",
       "      <td>5.0</td>\n",
       "    </tr>\n",
       "    <tr>\n",
       "      <th>44998</th>\n",
       "      <td>Python for Beginners with Examples</td>\n",
       "      <td>5.0</td>\n",
       "    </tr>\n",
       "    <tr>\n",
       "      <th>44999</th>\n",
       "      <td>The Python Mega Course: Build 10 Real World Ap...</td>\n",
       "      <td>5.0</td>\n",
       "    </tr>\n",
       "  </tbody>\n",
       "</table>\n",
       "<p>45000 rows × 2 columns</p>\n",
       "</div>"
      ],
      "text/plain": [
       "                                             Course Name  Rating\n",
       "0      The Python Mega Course: Build 10 Real World Ap...     4.0\n",
       "1      The Python Mega Course: Build 10 Real World Ap...     4.0\n",
       "2      The Python Mega Course: Build 10 Real World Ap...     4.0\n",
       "3      The Python Mega Course: Build 10 Real World Ap...     5.0\n",
       "4      The Python Mega Course: Build 10 Real World Ap...     4.5\n",
       "...                                                  ...     ...\n",
       "44995                 Python for Beginners with Examples     4.0\n",
       "44996  The Python Mega Course: Build 10 Real World Ap...     5.0\n",
       "44997  The Python Mega Course: Build 10 Real World Ap...     5.0\n",
       "44998                 Python for Beginners with Examples     5.0\n",
       "44999  The Python Mega Course: Build 10 Real World Ap...     5.0\n",
       "\n",
       "[45000 rows x 2 columns]"
      ]
     },
     "execution_count": 11,
     "metadata": {},
     "output_type": "execute_result"
    }
   ],
   "source": [
    "data[['Course Name', 'Rating']]"
   ]
  },
  {
   "cell_type": "markdown",
   "id": "1de4fe47",
   "metadata": {},
   "source": [
    "### Select a row"
   ]
  },
  {
   "cell_type": "code",
   "execution_count": 12,
   "id": "1a71efaf",
   "metadata": {},
   "outputs": [
    {
     "data": {
      "text/plain": [
       "Course Name    The Python Mega Course: Build 10 Real World Ap...\n",
       "Timestamp                              2021-04-02 03:33:24+00:00\n",
       "Rating                                                       5.0\n",
       "Comment                                                      NaN\n",
       "Name: 3, dtype: object"
      ]
     },
     "execution_count": 12,
     "metadata": {},
     "output_type": "execute_result"
    }
   ],
   "source": [
    "data.iloc[3]"
   ]
  },
  {
   "cell_type": "markdown",
   "id": "78a34d79",
   "metadata": {},
   "source": [
    "### Select multiple row"
   ]
  },
  {
   "cell_type": "code",
   "execution_count": 13,
   "id": "5543bf15",
   "metadata": {},
   "outputs": [
    {
     "data": {
      "text/html": [
       "<div>\n",
       "<style scoped>\n",
       "    .dataframe tbody tr th:only-of-type {\n",
       "        vertical-align: middle;\n",
       "    }\n",
       "\n",
       "    .dataframe tbody tr th {\n",
       "        vertical-align: top;\n",
       "    }\n",
       "\n",
       "    .dataframe thead th {\n",
       "        text-align: right;\n",
       "    }\n",
       "</style>\n",
       "<table border=\"1\" class=\"dataframe\">\n",
       "  <thead>\n",
       "    <tr style=\"text-align: right;\">\n",
       "      <th></th>\n",
       "      <th>Course Name</th>\n",
       "      <th>Timestamp</th>\n",
       "      <th>Rating</th>\n",
       "      <th>Comment</th>\n",
       "    </tr>\n",
       "  </thead>\n",
       "  <tbody>\n",
       "    <tr>\n",
       "      <th>1</th>\n",
       "      <td>The Python Mega Course: Build 10 Real World Ap...</td>\n",
       "      <td>2021-04-02 05:12:34+00:00</td>\n",
       "      <td>4.0</td>\n",
       "      <td>NaN</td>\n",
       "    </tr>\n",
       "    <tr>\n",
       "      <th>2</th>\n",
       "      <td>The Python Mega Course: Build 10 Real World Ap...</td>\n",
       "      <td>2021-04-02 05:11:03+00:00</td>\n",
       "      <td>4.0</td>\n",
       "      <td>NaN</td>\n",
       "    </tr>\n",
       "  </tbody>\n",
       "</table>\n",
       "</div>"
      ],
      "text/plain": [
       "                                         Course Name  \\\n",
       "1  The Python Mega Course: Build 10 Real World Ap...   \n",
       "2  The Python Mega Course: Build 10 Real World Ap...   \n",
       "\n",
       "                  Timestamp  Rating Comment  \n",
       "1 2021-04-02 05:12:34+00:00     4.0     NaN  \n",
       "2 2021-04-02 05:11:03+00:00     4.0     NaN  "
      ]
     },
     "execution_count": 13,
     "metadata": {},
     "output_type": "execute_result"
    }
   ],
   "source": [
    "data.iloc[1:3]"
   ]
  },
  {
   "cell_type": "markdown",
   "id": "d71be2ae",
   "metadata": {},
   "source": [
    "### Selecting a section"
   ]
  },
  {
   "cell_type": "code",
   "execution_count": 14,
   "id": "85b5c3fc",
   "metadata": {},
   "outputs": [
    {
     "data": {
      "text/html": [
       "<div>\n",
       "<style scoped>\n",
       "    .dataframe tbody tr th:only-of-type {\n",
       "        vertical-align: middle;\n",
       "    }\n",
       "\n",
       "    .dataframe tbody tr th {\n",
       "        vertical-align: top;\n",
       "    }\n",
       "\n",
       "    .dataframe thead th {\n",
       "        text-align: right;\n",
       "    }\n",
       "</style>\n",
       "<table border=\"1\" class=\"dataframe\">\n",
       "  <thead>\n",
       "    <tr style=\"text-align: right;\">\n",
       "      <th></th>\n",
       "      <th>Course Name</th>\n",
       "      <th>Rating</th>\n",
       "    </tr>\n",
       "  </thead>\n",
       "  <tbody>\n",
       "    <tr>\n",
       "      <th>1</th>\n",
       "      <td>The Python Mega Course: Build 10 Real World Ap...</td>\n",
       "      <td>4.0</td>\n",
       "    </tr>\n",
       "    <tr>\n",
       "      <th>2</th>\n",
       "      <td>The Python Mega Course: Build 10 Real World Ap...</td>\n",
       "      <td>4.0</td>\n",
       "    </tr>\n",
       "  </tbody>\n",
       "</table>\n",
       "</div>"
      ],
      "text/plain": [
       "                                         Course Name  Rating\n",
       "1  The Python Mega Course: Build 10 Real World Ap...     4.0\n",
       "2  The Python Mega Course: Build 10 Real World Ap...     4.0"
      ]
     },
     "execution_count": 14,
     "metadata": {},
     "output_type": "execute_result"
    }
   ],
   "source": [
    "data[['Course Name','Rating']].iloc[1:3]"
   ]
  },
  {
   "cell_type": "markdown",
   "id": "92534d93",
   "metadata": {},
   "source": [
    "### Selecting a cell"
   ]
  },
  {
   "cell_type": "code",
   "execution_count": 15,
   "id": "fe456b7b",
   "metadata": {},
   "outputs": [
    {
     "data": {
      "text/plain": [
       "Timestamp('2021-04-02 05:11:03+0000', tz='UTC')"
      ]
     },
     "execution_count": 15,
     "metadata": {},
     "output_type": "execute_result"
    }
   ],
   "source": [
    "data['Timestamp'].iloc[2]"
   ]
  },
  {
   "cell_type": "code",
   "execution_count": 16,
   "id": "9862e7a5",
   "metadata": {},
   "outputs": [
    {
     "data": {
      "text/plain": [
       "4.0"
      ]
     },
     "execution_count": 16,
     "metadata": {},
     "output_type": "execute_result"
    }
   ],
   "source": [
    "data.at[2,'Rating']"
   ]
  },
  {
   "cell_type": "markdown",
   "id": "4c019e0a",
   "metadata": {},
   "source": [
    "## 3.Filtering data based on conditons"
   ]
  },
  {
   "cell_type": "markdown",
   "id": "f438b826",
   "metadata": {},
   "source": [
    "### One condtion"
   ]
  },
  {
   "cell_type": "code",
   "execution_count": 17,
   "id": "7703ef1f",
   "metadata": {},
   "outputs": [
    {
     "data": {
      "text/html": [
       "<div>\n",
       "<style scoped>\n",
       "    .dataframe tbody tr th:only-of-type {\n",
       "        vertical-align: middle;\n",
       "    }\n",
       "\n",
       "    .dataframe tbody tr th {\n",
       "        vertical-align: top;\n",
       "    }\n",
       "\n",
       "    .dataframe thead th {\n",
       "        text-align: right;\n",
       "    }\n",
       "</style>\n",
       "<table border=\"1\" class=\"dataframe\">\n",
       "  <thead>\n",
       "    <tr style=\"text-align: right;\">\n",
       "      <th></th>\n",
       "      <th>Course Name</th>\n",
       "      <th>Timestamp</th>\n",
       "      <th>Rating</th>\n",
       "      <th>Comment</th>\n",
       "    </tr>\n",
       "  </thead>\n",
       "  <tbody>\n",
       "    <tr>\n",
       "      <th>3</th>\n",
       "      <td>The Python Mega Course: Build 10 Real World Ap...</td>\n",
       "      <td>2021-04-02 03:33:24+00:00</td>\n",
       "      <td>5.0</td>\n",
       "      <td>NaN</td>\n",
       "    </tr>\n",
       "    <tr>\n",
       "      <th>4</th>\n",
       "      <td>The Python Mega Course: Build 10 Real World Ap...</td>\n",
       "      <td>2021-04-02 03:31:49+00:00</td>\n",
       "      <td>4.5</td>\n",
       "      <td>NaN</td>\n",
       "    </tr>\n",
       "    <tr>\n",
       "      <th>5</th>\n",
       "      <td>The Python Mega Course: Build 10 Real World Ap...</td>\n",
       "      <td>2021-04-02 01:10:06+00:00</td>\n",
       "      <td>4.5</td>\n",
       "      <td>NaN</td>\n",
       "    </tr>\n",
       "    <tr>\n",
       "      <th>6</th>\n",
       "      <td>The Python Mega Course: Build 10 Real World Ap...</td>\n",
       "      <td>2021-04-02 00:44:54+00:00</td>\n",
       "      <td>4.5</td>\n",
       "      <td>NaN</td>\n",
       "    </tr>\n",
       "    <tr>\n",
       "      <th>7</th>\n",
       "      <td>The Python Mega Course: Build 10 Real World Ap...</td>\n",
       "      <td>2021-04-01 23:42:02+00:00</td>\n",
       "      <td>5.0</td>\n",
       "      <td>NaN</td>\n",
       "    </tr>\n",
       "    <tr>\n",
       "      <th>...</th>\n",
       "      <td>...</td>\n",
       "      <td>...</td>\n",
       "      <td>...</td>\n",
       "      <td>...</td>\n",
       "    </tr>\n",
       "    <tr>\n",
       "      <th>44994</th>\n",
       "      <td>The Python Mega Course: Build 10 Real World Ap...</td>\n",
       "      <td>2018-01-01 01:19:24+00:00</td>\n",
       "      <td>5.0</td>\n",
       "      <td>NaN</td>\n",
       "    </tr>\n",
       "    <tr>\n",
       "      <th>44996</th>\n",
       "      <td>The Python Mega Course: Build 10 Real World Ap...</td>\n",
       "      <td>2018-01-01 01:09:56+00:00</td>\n",
       "      <td>5.0</td>\n",
       "      <td>NaN</td>\n",
       "    </tr>\n",
       "    <tr>\n",
       "      <th>44997</th>\n",
       "      <td>The Python Mega Course: Build 10 Real World Ap...</td>\n",
       "      <td>2018-01-01 01:08:11+00:00</td>\n",
       "      <td>5.0</td>\n",
       "      <td>NaN</td>\n",
       "    </tr>\n",
       "    <tr>\n",
       "      <th>44998</th>\n",
       "      <td>Python for Beginners with Examples</td>\n",
       "      <td>2018-01-01 01:05:26+00:00</td>\n",
       "      <td>5.0</td>\n",
       "      <td>NaN</td>\n",
       "    </tr>\n",
       "    <tr>\n",
       "      <th>44999</th>\n",
       "      <td>The Python Mega Course: Build 10 Real World Ap...</td>\n",
       "      <td>2018-01-01 01:01:16+00:00</td>\n",
       "      <td>5.0</td>\n",
       "      <td>NaN</td>\n",
       "    </tr>\n",
       "  </tbody>\n",
       "</table>\n",
       "<p>29758 rows × 4 columns</p>\n",
       "</div>"
      ],
      "text/plain": [
       "                                             Course Name  \\\n",
       "3      The Python Mega Course: Build 10 Real World Ap...   \n",
       "4      The Python Mega Course: Build 10 Real World Ap...   \n",
       "5      The Python Mega Course: Build 10 Real World Ap...   \n",
       "6      The Python Mega Course: Build 10 Real World Ap...   \n",
       "7      The Python Mega Course: Build 10 Real World Ap...   \n",
       "...                                                  ...   \n",
       "44994  The Python Mega Course: Build 10 Real World Ap...   \n",
       "44996  The Python Mega Course: Build 10 Real World Ap...   \n",
       "44997  The Python Mega Course: Build 10 Real World Ap...   \n",
       "44998                 Python for Beginners with Examples   \n",
       "44999  The Python Mega Course: Build 10 Real World Ap...   \n",
       "\n",
       "                      Timestamp  Rating Comment  \n",
       "3     2021-04-02 03:33:24+00:00     5.0     NaN  \n",
       "4     2021-04-02 03:31:49+00:00     4.5     NaN  \n",
       "5     2021-04-02 01:10:06+00:00     4.5     NaN  \n",
       "6     2021-04-02 00:44:54+00:00     4.5     NaN  \n",
       "7     2021-04-01 23:42:02+00:00     5.0     NaN  \n",
       "...                         ...     ...     ...  \n",
       "44994 2018-01-01 01:19:24+00:00     5.0     NaN  \n",
       "44996 2018-01-01 01:09:56+00:00     5.0     NaN  \n",
       "44997 2018-01-01 01:08:11+00:00     5.0     NaN  \n",
       "44998 2018-01-01 01:05:26+00:00     5.0     NaN  \n",
       "44999 2018-01-01 01:01:16+00:00     5.0     NaN  \n",
       "\n",
       "[29758 rows x 4 columns]"
      ]
     },
     "execution_count": 17,
     "metadata": {},
     "output_type": "execute_result"
    }
   ],
   "source": [
    "data[data['Rating'] > 4]\n",
    " "
   ]
  },
  {
   "cell_type": "markdown",
   "id": "aeee571b",
   "metadata": {},
   "source": [
    "### Multiple conditions"
   ]
  },
  {
   "cell_type": "code",
   "execution_count": 18,
   "id": "c6c88d3a",
   "metadata": {},
   "outputs": [
    {
     "data": {
      "text/plain": [
       "4.908831908831909"
      ]
     },
     "execution_count": 18,
     "metadata": {},
     "output_type": "execute_result"
    }
   ],
   "source": [
    "data[(data['Rating'] > 4)&( data['Course Name'] == 'The Complete Python Course: Build 10 Professional OOP Apps')]['Rating'].mean()"
   ]
  },
  {
   "cell_type": "markdown",
   "id": "4d133084",
   "metadata": {},
   "source": [
    "## 4.Time-based filtering"
   ]
  },
  {
   "cell_type": "code",
   "execution_count": 19,
   "id": "315c1187",
   "metadata": {},
   "outputs": [
    {
     "data": {
      "text/html": [
       "<div>\n",
       "<style scoped>\n",
       "    .dataframe tbody tr th:only-of-type {\n",
       "        vertical-align: middle;\n",
       "    }\n",
       "\n",
       "    .dataframe tbody tr th {\n",
       "        vertical-align: top;\n",
       "    }\n",
       "\n",
       "    .dataframe thead th {\n",
       "        text-align: right;\n",
       "    }\n",
       "</style>\n",
       "<table border=\"1\" class=\"dataframe\">\n",
       "  <thead>\n",
       "    <tr style=\"text-align: right;\">\n",
       "      <th></th>\n",
       "      <th>Course Name</th>\n",
       "      <th>Timestamp</th>\n",
       "      <th>Rating</th>\n",
       "      <th>Comment</th>\n",
       "    </tr>\n",
       "  </thead>\n",
       "  <tbody>\n",
       "    <tr>\n",
       "      <th>3065</th>\n",
       "      <td>Interactive Data Visualization with Python and...</td>\n",
       "      <td>2020-12-30 23:28:34+00:00</td>\n",
       "      <td>3.0</td>\n",
       "      <td>NaN</td>\n",
       "    </tr>\n",
       "    <tr>\n",
       "      <th>3066</th>\n",
       "      <td>The Python Mega Course: Build 10 Real World Ap...</td>\n",
       "      <td>2020-12-30 22:59:02+00:00</td>\n",
       "      <td>4.0</td>\n",
       "      <td>NaN</td>\n",
       "    </tr>\n",
       "    <tr>\n",
       "      <th>3067</th>\n",
       "      <td>The Python Mega Course: Build 10 Real World Ap...</td>\n",
       "      <td>2020-12-30 22:40:10+00:00</td>\n",
       "      <td>4.5</td>\n",
       "      <td>NaN</td>\n",
       "    </tr>\n",
       "    <tr>\n",
       "      <th>3068</th>\n",
       "      <td>The Python Mega Course: Build 10 Real World Ap...</td>\n",
       "      <td>2020-12-30 21:56:41+00:00</td>\n",
       "      <td>4.5</td>\n",
       "      <td>NaN</td>\n",
       "    </tr>\n",
       "    <tr>\n",
       "      <th>3069</th>\n",
       "      <td>The Python Mega Course: Build 10 Real World Ap...</td>\n",
       "      <td>2020-12-30 21:14:34+00:00</td>\n",
       "      <td>4.5</td>\n",
       "      <td>NaN</td>\n",
       "    </tr>\n",
       "    <tr>\n",
       "      <th>...</th>\n",
       "      <td>...</td>\n",
       "      <td>...</td>\n",
       "      <td>...</td>\n",
       "      <td>...</td>\n",
       "    </tr>\n",
       "    <tr>\n",
       "      <th>9729</th>\n",
       "      <td>The Python Mega Course: Build 10 Real World Ap...</td>\n",
       "      <td>2020-07-01 03:09:44+00:00</td>\n",
       "      <td>3.5</td>\n",
       "      <td>NaN</td>\n",
       "    </tr>\n",
       "    <tr>\n",
       "      <th>9730</th>\n",
       "      <td>The Python Mega Course: Build 10 Real World Ap...</td>\n",
       "      <td>2020-07-01 03:09:12+00:00</td>\n",
       "      <td>5.0</td>\n",
       "      <td>NaN</td>\n",
       "    </tr>\n",
       "    <tr>\n",
       "      <th>9731</th>\n",
       "      <td>The Python Mega Course: Build 10 Real World Ap...</td>\n",
       "      <td>2020-07-01 02:40:58+00:00</td>\n",
       "      <td>4.0</td>\n",
       "      <td>NaN</td>\n",
       "    </tr>\n",
       "    <tr>\n",
       "      <th>9732</th>\n",
       "      <td>The Python Mega Course: Build 10 Real World Ap...</td>\n",
       "      <td>2020-07-01 02:04:02+00:00</td>\n",
       "      <td>5.0</td>\n",
       "      <td>nice</td>\n",
       "    </tr>\n",
       "    <tr>\n",
       "      <th>9733</th>\n",
       "      <td>The Python Mega Course: Build 10 Real World Ap...</td>\n",
       "      <td>2020-07-01 00:01:34+00:00</td>\n",
       "      <td>2.0</td>\n",
       "      <td>Hard to follow if u have no experience program...</td>\n",
       "    </tr>\n",
       "  </tbody>\n",
       "</table>\n",
       "<p>6669 rows × 4 columns</p>\n",
       "</div>"
      ],
      "text/plain": [
       "                                            Course Name  \\\n",
       "3065  Interactive Data Visualization with Python and...   \n",
       "3066  The Python Mega Course: Build 10 Real World Ap...   \n",
       "3067  The Python Mega Course: Build 10 Real World Ap...   \n",
       "3068  The Python Mega Course: Build 10 Real World Ap...   \n",
       "3069  The Python Mega Course: Build 10 Real World Ap...   \n",
       "...                                                 ...   \n",
       "9729  The Python Mega Course: Build 10 Real World Ap...   \n",
       "9730  The Python Mega Course: Build 10 Real World Ap...   \n",
       "9731  The Python Mega Course: Build 10 Real World Ap...   \n",
       "9732  The Python Mega Course: Build 10 Real World Ap...   \n",
       "9733  The Python Mega Course: Build 10 Real World Ap...   \n",
       "\n",
       "                     Timestamp  Rating  \\\n",
       "3065 2020-12-30 23:28:34+00:00     3.0   \n",
       "3066 2020-12-30 22:59:02+00:00     4.0   \n",
       "3067 2020-12-30 22:40:10+00:00     4.5   \n",
       "3068 2020-12-30 21:56:41+00:00     4.5   \n",
       "3069 2020-12-30 21:14:34+00:00     4.5   \n",
       "...                        ...     ...   \n",
       "9729 2020-07-01 03:09:44+00:00     3.5   \n",
       "9730 2020-07-01 03:09:12+00:00     5.0   \n",
       "9731 2020-07-01 02:40:58+00:00     4.0   \n",
       "9732 2020-07-01 02:04:02+00:00     5.0   \n",
       "9733 2020-07-01 00:01:34+00:00     2.0   \n",
       "\n",
       "                                                Comment  \n",
       "3065                                                NaN  \n",
       "3066                                                NaN  \n",
       "3067                                                NaN  \n",
       "3068                                                NaN  \n",
       "3069                                                NaN  \n",
       "...                                                 ...  \n",
       "9729                                                NaN  \n",
       "9730                                                NaN  \n",
       "9731                                                NaN  \n",
       "9732                                               nice  \n",
       "9733  Hard to follow if u have no experience program...  \n",
       "\n",
       "[6669 rows x 4 columns]"
      ]
     },
     "execution_count": 19,
     "metadata": {},
     "output_type": "execute_result"
    }
   ],
   "source": [
    "data[(data['Timestamp'] >= datetime(2020,7,1, tzinfo = utc )) & (data['Timestamp'] <= datetime(2020,12,31, tzinfo = utc ))]"
   ]
  },
  {
   "cell_type": "markdown",
   "id": "7157b05c",
   "metadata": {},
   "source": [
    "## 5.From data to information"
   ]
  },
  {
   "cell_type": "markdown",
   "id": "08bf7bc3",
   "metadata": {},
   "source": [
    "### Average rating"
   ]
  },
  {
   "cell_type": "code",
   "execution_count": 20,
   "id": "df4357ce",
   "metadata": {},
   "outputs": [
    {
     "data": {
      "text/plain": [
       "4.442155555555556"
      ]
     },
     "execution_count": 20,
     "metadata": {},
     "output_type": "execute_result"
    }
   ],
   "source": [
    "data['Rating'].mean()"
   ]
  },
  {
   "cell_type": "markdown",
   "id": "5890e5e3",
   "metadata": {},
   "source": [
    "### Average rating for a particular course"
   ]
  },
  {
   "cell_type": "code",
   "execution_count": 22,
   "id": "6195b559",
   "metadata": {},
   "outputs": [
    {
     "data": {
      "text/plain": [
       "4.477270180942244"
      ]
     },
     "execution_count": 22,
     "metadata": {},
     "output_type": "execute_result"
    }
   ],
   "source": [
    "data[data['Course Name']=='The Python Mega Course: Build 10 Real World Applications']['Rating'].mean()"
   ]
  },
  {
   "cell_type": "markdown",
   "id": "f214d22b",
   "metadata": {},
   "source": [
    "### Average rating for a particular period"
   ]
  },
  {
   "cell_type": "code",
   "execution_count": 24,
   "id": "b1cf8a2f",
   "metadata": {},
   "outputs": [
    {
     "data": {
      "text/plain": [
       "4.499250262408157"
      ]
     },
     "execution_count": 24,
     "metadata": {},
     "output_type": "execute_result"
    }
   ],
   "source": [
    "data[(data['Timestamp'] >= datetime(2020,7,1, tzinfo = utc )) \n",
    "     & (data['Timestamp'] <= datetime(2020,12,31, tzinfo = utc ))]['Rating'].mean()"
   ]
  },
  {
   "cell_type": "markdown",
   "id": "189d3304",
   "metadata": {},
   "source": [
    "### Average rating for a particular period for a particular course"
   ]
  },
  {
   "cell_type": "code",
   "execution_count": 30,
   "id": "435f4711",
   "metadata": {},
   "outputs": [
    {
     "data": {
      "text/plain": [
       "4.520265724857047"
      ]
     },
     "execution_count": 30,
     "metadata": {},
     "output_type": "execute_result"
    }
   ],
   "source": [
    "data[(data['Timestamp'] >= datetime(2020,7,1, tzinfo = utc )) \n",
    "     & (data['Timestamp'] <= datetime(2020,12,31, tzinfo = utc ))\n",
    "     & (data['Course Name']=='The Python Mega Course: Build 10 Real World Applications')\n",
    "    ]['Rating'].mean()"
   ]
  },
  {
   "cell_type": "markdown",
   "id": "431b626c",
   "metadata": {},
   "source": [
    "### Average of uncommented ratings"
   ]
  },
  {
   "cell_type": "code",
   "execution_count": 34,
   "id": "a9aebc26",
   "metadata": {},
   "outputs": [
    {
     "data": {
      "text/plain": [
       "4.433679746603492"
      ]
     },
     "execution_count": 34,
     "metadata": {},
     "output_type": "execute_result"
    }
   ],
   "source": [
    "data[data['Comment'].isnull()]['Rating'].mean()"
   ]
  },
  {
   "cell_type": "markdown",
   "id": "36f96abd",
   "metadata": {},
   "source": [
    "### Average of commented ratings"
   ]
  },
  {
   "cell_type": "code",
   "execution_count": 35,
   "id": "982d2107",
   "metadata": {},
   "outputs": [
    {
     "data": {
      "text/plain": [
       "4.489777908515959"
      ]
     },
     "execution_count": 35,
     "metadata": {},
     "output_type": "execute_result"
    }
   ],
   "source": [
    "data[data['Comment'].notnull()]['Rating'].mean()"
   ]
  },
  {
   "cell_type": "markdown",
   "id": "5c6f1eb2",
   "metadata": {},
   "source": [
    "### Number of uncommented ratings"
   ]
  },
  {
   "cell_type": "code",
   "execution_count": 36,
   "id": "1251c504",
   "metadata": {},
   "outputs": [
    {
     "data": {
      "text/plain": [
       "Course Name    38201\n",
       "Timestamp      38201\n",
       "Rating         38201\n",
       "Comment            0\n",
       "dtype: int64"
      ]
     },
     "execution_count": 36,
     "metadata": {},
     "output_type": "execute_result"
    }
   ],
   "source": [
    "data[data['Comment'].isnull()].count()"
   ]
  },
  {
   "cell_type": "markdown",
   "id": "fc888a0b",
   "metadata": {},
   "source": [
    "### Number of commented ratings"
   ]
  },
  {
   "cell_type": "code",
   "execution_count": 37,
   "id": "b81e4512",
   "metadata": {},
   "outputs": [
    {
     "data": {
      "text/plain": [
       "Course Name    6799\n",
       "Timestamp      6799\n",
       "Rating         6799\n",
       "Comment        6799\n",
       "dtype: int64"
      ]
     },
     "execution_count": 37,
     "metadata": {},
     "output_type": "execute_result"
    }
   ],
   "source": [
    "data[data['Comment'].notnull()].count()"
   ]
  },
  {
   "cell_type": "markdown",
   "id": "535c80e9",
   "metadata": {},
   "source": [
    "### Number of commented containing a certain word"
   ]
  },
  {
   "cell_type": "code",
   "execution_count": 39,
   "id": "3b7fc06f",
   "metadata": {},
   "outputs": [
    {
     "data": {
      "text/plain": [
       "Course Name    77\n",
       "Timestamp      77\n",
       "Rating         77\n",
       "Comment        77\n",
       "dtype: int64"
      ]
     },
     "execution_count": 39,
     "metadata": {},
     "output_type": "execute_result"
    }
   ],
   "source": [
    "data[data['Comment'].str.contains('accent', na=False)].count()"
   ]
  },
  {
   "cell_type": "markdown",
   "id": "9313f342",
   "metadata": {},
   "source": [
    "### Average of commented rating with \"accent\" in comment\n"
   ]
  },
  {
   "cell_type": "code",
   "execution_count": 41,
   "id": "3b598efb",
   "metadata": {},
   "outputs": [
    {
     "data": {
      "text/plain": [
       "3.8636363636363638"
      ]
     },
     "execution_count": 41,
     "metadata": {},
     "output_type": "execute_result"
    }
   ],
   "source": [
    "data[data['Comment'].str.contains('accent', na=False)]['Rating'].mean()"
   ]
  },
  {
   "cell_type": "code",
   "execution_count": null,
   "id": "5a17c917",
   "metadata": {},
   "outputs": [],
   "source": []
  }
 ],
 "metadata": {
  "kernelspec": {
   "display_name": "Python 3 (ipykernel)",
   "language": "python",
   "name": "python3"
  },
  "language_info": {
   "codemirror_mode": {
    "name": "ipython",
    "version": 3
   },
   "file_extension": ".py",
   "mimetype": "text/x-python",
   "name": "python",
   "nbconvert_exporter": "python",
   "pygments_lexer": "ipython3",
   "version": "3.10.4"
  }
 },
 "nbformat": 4,
 "nbformat_minor": 5
}
